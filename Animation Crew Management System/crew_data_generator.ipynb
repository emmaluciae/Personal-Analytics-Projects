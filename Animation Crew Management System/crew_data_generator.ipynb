{
 "cells": [
  {
   "cell_type": "markdown",
   "id": "9b8d69d2",
   "metadata": {},
   "source": [
    "Objective: Build an animation crew management system that tracks artists, projects, roles, and availability using tools such as excel, airtable, and python."
   ]
  },
  {
   "cell_type": "code",
   "execution_count": 1,
   "id": "e33fa3c1",
   "metadata": {},
   "outputs": [],
   "source": [
    "import pandas as pd\n",
    "import random"
   ]
  },
  {
   "cell_type": "code",
   "execution_count": 5,
   "id": "57eb21d6",
   "metadata": {},
   "outputs": [],
   "source": [
    "roles = ['Animator', 'Storyboard Artist', 'Technical Director', 'Modeler', 'Rigging Artist']\n",
    "skills_pool = ['Toon Boom', 'Maya', 'Blender', 'Photoshop', 'ZBrush']\n",
    "availability = ['Available', 'Assigned', 'On Hold']\n",
    "regions = ['US', 'MX', 'CA']"
   ]
  },
  {
   "cell_type": "code",
   "execution_count": 7,
   "id": "6550de15",
   "metadata": {},
   "outputs": [],
   "source": [
    "data =[]\n",
    "for i in range(50):\n",
    "    data.append({\n",
    "        'user_id': 1000 + i,\n",
    "        'name': f'Artist_{i}',\n",
    "        'role' : random.choice(roles),\n",
    "        'skills' : ', '.join(random.sample(skills_pool, k=random.randint(1, 3))),\n",
    "        'availability': random.choice(availability),\n",
    "        'portfolio': f'https://portfolio.com/artist_{i}',\n",
    "        'region': random.choice(regions)\n",
    "    })"
   ]
  },
  {
   "cell_type": "code",
   "execution_count": 8,
   "id": "efd9fbbf",
   "metadata": {},
   "outputs": [],
   "source": [
    "df = pd.DataFrame(data)\n",
    "df.to_csv('crew_directory.csv', index=False)"
   ]
  },
  {
   "cell_type": "code",
   "execution_count": null,
   "id": "106c0cb9",
   "metadata": {},
   "outputs": [],
   "source": []
  }
 ],
 "metadata": {
  "kernelspec": {
   "display_name": "base",
   "language": "python",
   "name": "python3"
  },
  "language_info": {
   "codemirror_mode": {
    "name": "ipython",
    "version": 3
   },
   "file_extension": ".py",
   "mimetype": "text/x-python",
   "name": "python",
   "nbconvert_exporter": "python",
   "pygments_lexer": "ipython3",
   "version": "3.11.5"
  }
 },
 "nbformat": 4,
 "nbformat_minor": 5
}
