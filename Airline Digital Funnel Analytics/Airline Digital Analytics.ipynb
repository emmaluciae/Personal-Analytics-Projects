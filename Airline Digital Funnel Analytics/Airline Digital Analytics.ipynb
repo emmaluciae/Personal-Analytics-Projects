{
 "cells": [
  {
   "cell_type": "code",
   "execution_count": 15,
   "id": "d4920d4a",
   "metadata": {},
   "outputs": [],
   "source": [
    "import random\n",
    "import numpy as np\n",
    "from datetime import datetime, timedelta\n",
    "import pandas as pd"
   ]
  },
  {
   "cell_type": "code",
   "execution_count": 16,
   "id": "72f6a981",
   "metadata": {},
   "outputs": [],
   "source": [
    "random.seed(42)\n",
    "np.random.seed(42)"
   ]
  },
  {
   "cell_type": "code",
   "execution_count": 17,
   "id": "00f1e038",
   "metadata": {},
   "outputs": [],
   "source": [
    "#user_id\tsession_id\ttimestamp\tevent\tdevice\tregion\n",
    "def generate_fake_customer_sessions(n=600):\n",
    "    events = ['search','view_flights','select_flight','add_bags','checkout','confirmation']\n",
    "    devices = ['mobile','desktop']\n",
    "    regions = ['US', 'UK', 'CA', 'AU', 'DE', 'FR', 'IT', 'ES', 'JP', 'CN',\n",
    "    'KR', 'IN', 'BR', 'MX', 'ZA', 'RU', 'SG', 'NZ', 'AE', 'NL',\n",
    "    'SE', 'CH', 'BE', 'IE', 'NO', 'FI', 'DK', 'PL', 'PT', 'GR',\n",
    "    'TH', 'MY', 'PH', 'ID', 'TR', 'EG', 'SA', 'IL', 'AR', 'CL']\n",
    "\n",
    "    base_time = datetime(2024, 1, 1) #earliest possible time (year,month,day)\n",
    "    data = []\n",
    "\n",
    "    for i in range(n):\n",
    "        user_id = f\"{1000 + i}\"\n",
    "        session_id = f\"S{1000 + i}\"\n",
    "        device = random.choice(devices)\n",
    "        region = random.choice(regions)\n",
    "        \n",
    "        num_events = random.randint(2, len(events)) #pick random number of events from 2 to the number of events in the list which is 6\n",
    "        session_events = events[:num_events] #will choose event in order based on number of events\n",
    "\n",
    "        #start time, random\n",
    "        start_time = base_time +timedelta(days=random.randint(0,365),hours=random.randint(0,23),minutes=random.randint(0,59))\n",
    "\n",
    "        current_time = start_time #to later ad 1-5 min between event\n",
    "        for event in session_events:\n",
    "            data.append({\n",
    "                 'user_id': user_id,\n",
    "                 'session_id': session_id,\n",
    "                 'timestamp': current_time,\n",
    "                 'event': event,\n",
    "                 'device': device,\n",
    "                 'region': region\n",
    "        })\n",
    "        current_time += timedelta(minutes=random.randint(1,5)) #random time 1 to 5 min\n",
    "    return pd.DataFrame(data)"
   ]
  },
  {
   "cell_type": "code",
   "execution_count": 18,
   "id": "1b6aefbf",
   "metadata": {},
   "outputs": [],
   "source": [
    "df = generate_fake_customer_sessions()"
   ]
  },
  {
   "cell_type": "code",
   "execution_count": 19,
   "id": "3a61df64",
   "metadata": {},
   "outputs": [],
   "source": [
    "df.to_csv('Fake_Customer_Flight_Sessions.csv',index=False)"
   ]
  },
  {
   "cell_type": "code",
   "execution_count": 20,
   "id": "918e5080",
   "metadata": {},
   "outputs": [
    {
     "data": {
      "text/html": [
       "<div>\n",
       "<style scoped>\n",
       "    .dataframe tbody tr th:only-of-type {\n",
       "        vertical-align: middle;\n",
       "    }\n",
       "\n",
       "    .dataframe tbody tr th {\n",
       "        vertical-align: top;\n",
       "    }\n",
       "\n",
       "    .dataframe thead th {\n",
       "        text-align: right;\n",
       "    }\n",
       "</style>\n",
       "<table border=\"1\" class=\"dataframe\">\n",
       "  <thead>\n",
       "    <tr style=\"text-align: right;\">\n",
       "      <th></th>\n",
       "      <th>user_id</th>\n",
       "      <th>session_id</th>\n",
       "      <th>timestamp</th>\n",
       "      <th>event</th>\n",
       "      <th>device</th>\n",
       "      <th>region</th>\n",
       "    </tr>\n",
       "  </thead>\n",
       "  <tbody>\n",
       "    <tr>\n",
       "      <th>0</th>\n",
       "      <td>1000</td>\n",
       "      <td>S1000</td>\n",
       "      <td>2024-05-05 07:08:00</td>\n",
       "      <td>search</td>\n",
       "      <td>mobile</td>\n",
       "      <td>UK</td>\n",
       "    </tr>\n",
       "    <tr>\n",
       "      <th>1</th>\n",
       "      <td>1000</td>\n",
       "      <td>S1000</td>\n",
       "      <td>2024-05-05 07:08:00</td>\n",
       "      <td>view_flights</td>\n",
       "      <td>mobile</td>\n",
       "      <td>UK</td>\n",
       "    </tr>\n",
       "    <tr>\n",
       "      <th>2</th>\n",
       "      <td>1000</td>\n",
       "      <td>S1000</td>\n",
       "      <td>2024-05-05 07:08:00</td>\n",
       "      <td>select_flight</td>\n",
       "      <td>mobile</td>\n",
       "      <td>UK</td>\n",
       "    </tr>\n",
       "    <tr>\n",
       "      <th>3</th>\n",
       "      <td>1000</td>\n",
       "      <td>S1000</td>\n",
       "      <td>2024-05-05 07:08:00</td>\n",
       "      <td>add_bags</td>\n",
       "      <td>mobile</td>\n",
       "      <td>UK</td>\n",
       "    </tr>\n",
       "    <tr>\n",
       "      <th>4</th>\n",
       "      <td>1001</td>\n",
       "      <td>S1001</td>\n",
       "      <td>2024-01-17 00:05:00</td>\n",
       "      <td>search</td>\n",
       "      <td>mobile</td>\n",
       "      <td>IL</td>\n",
       "    </tr>\n",
       "    <tr>\n",
       "      <th>...</th>\n",
       "      <td>...</td>\n",
       "      <td>...</td>\n",
       "      <td>...</td>\n",
       "      <td>...</td>\n",
       "      <td>...</td>\n",
       "      <td>...</td>\n",
       "    </tr>\n",
       "    <tr>\n",
       "      <th>2422</th>\n",
       "      <td>1598</td>\n",
       "      <td>S1598</td>\n",
       "      <td>2024-08-25 16:25:00</td>\n",
       "      <td>add_bags</td>\n",
       "      <td>mobile</td>\n",
       "      <td>NZ</td>\n",
       "    </tr>\n",
       "    <tr>\n",
       "      <th>2423</th>\n",
       "      <td>1599</td>\n",
       "      <td>S1599</td>\n",
       "      <td>2024-09-07 19:28:00</td>\n",
       "      <td>search</td>\n",
       "      <td>mobile</td>\n",
       "      <td>RU</td>\n",
       "    </tr>\n",
       "    <tr>\n",
       "      <th>2424</th>\n",
       "      <td>1599</td>\n",
       "      <td>S1599</td>\n",
       "      <td>2024-09-07 19:28:00</td>\n",
       "      <td>view_flights</td>\n",
       "      <td>mobile</td>\n",
       "      <td>RU</td>\n",
       "    </tr>\n",
       "    <tr>\n",
       "      <th>2425</th>\n",
       "      <td>1599</td>\n",
       "      <td>S1599</td>\n",
       "      <td>2024-09-07 19:28:00</td>\n",
       "      <td>select_flight</td>\n",
       "      <td>mobile</td>\n",
       "      <td>RU</td>\n",
       "    </tr>\n",
       "    <tr>\n",
       "      <th>2426</th>\n",
       "      <td>1599</td>\n",
       "      <td>S1599</td>\n",
       "      <td>2024-09-07 19:28:00</td>\n",
       "      <td>add_bags</td>\n",
       "      <td>mobile</td>\n",
       "      <td>RU</td>\n",
       "    </tr>\n",
       "  </tbody>\n",
       "</table>\n",
       "<p>2427 rows × 6 columns</p>\n",
       "</div>"
      ],
      "text/plain": [
       "     user_id session_id           timestamp          event  device region\n",
       "0       1000      S1000 2024-05-05 07:08:00         search  mobile     UK\n",
       "1       1000      S1000 2024-05-05 07:08:00   view_flights  mobile     UK\n",
       "2       1000      S1000 2024-05-05 07:08:00  select_flight  mobile     UK\n",
       "3       1000      S1000 2024-05-05 07:08:00       add_bags  mobile     UK\n",
       "4       1001      S1001 2024-01-17 00:05:00         search  mobile     IL\n",
       "...      ...        ...                 ...            ...     ...    ...\n",
       "2422    1598      S1598 2024-08-25 16:25:00       add_bags  mobile     NZ\n",
       "2423    1599      S1599 2024-09-07 19:28:00         search  mobile     RU\n",
       "2424    1599      S1599 2024-09-07 19:28:00   view_flights  mobile     RU\n",
       "2425    1599      S1599 2024-09-07 19:28:00  select_flight  mobile     RU\n",
       "2426    1599      S1599 2024-09-07 19:28:00       add_bags  mobile     RU\n",
       "\n",
       "[2427 rows x 6 columns]"
      ]
     },
     "execution_count": 20,
     "metadata": {},
     "output_type": "execute_result"
    }
   ],
   "source": [
    "df"
   ]
  },
  {
   "cell_type": "code",
   "execution_count": 21,
   "id": "9ec7ef8f",
   "metadata": {},
   "outputs": [
    {
     "name": "stdout",
     "output_type": "stream",
     "text": [
      "<class 'pandas.core.frame.DataFrame'>\n",
      "RangeIndex: 2427 entries, 0 to 2426\n",
      "Data columns (total 6 columns):\n",
      " #   Column      Non-Null Count  Dtype         \n",
      "---  ------      --------------  -----         \n",
      " 0   user_id     2427 non-null   object        \n",
      " 1   session_id  2427 non-null   object        \n",
      " 2   timestamp   2427 non-null   datetime64[ns]\n",
      " 3   event       2427 non-null   object        \n",
      " 4   device      2427 non-null   object        \n",
      " 5   region      2427 non-null   object        \n",
      "dtypes: datetime64[ns](1), object(5)\n",
      "memory usage: 113.9+ KB\n"
     ]
    }
   ],
   "source": [
    "df.info()"
   ]
  },
  {
   "cell_type": "code",
   "execution_count": 22,
   "id": "b6d97cfd",
   "metadata": {},
   "outputs": [
    {
     "data": {
      "text/plain": [
       "user_id       0\n",
       "session_id    0\n",
       "timestamp     0\n",
       "event         0\n",
       "device        0\n",
       "region        0\n",
       "dtype: int64"
      ]
     },
     "execution_count": 22,
     "metadata": {},
     "output_type": "execute_result"
    }
   ],
   "source": [
    "df.isnull().sum()"
   ]
  },
  {
   "cell_type": "code",
   "execution_count": 23,
   "id": "fb88a3a8",
   "metadata": {},
   "outputs": [
    {
     "data": {
      "text/plain": [
       "array(['mobile', 'desktop'], dtype=object)"
      ]
     },
     "execution_count": 23,
     "metadata": {},
     "output_type": "execute_result"
    }
   ],
   "source": [
    "df['device'].unique()"
   ]
  },
  {
   "cell_type": "code",
   "execution_count": 24,
   "id": "9e0b3497",
   "metadata": {},
   "outputs": [
    {
     "data": {
      "text/plain": [
       "event\n",
       "search           600\n",
       "view_flights     600\n",
       "select_flight    478\n",
       "add_bags         377\n",
       "checkout         255\n",
       "confirmation     117\n",
       "Name: count, dtype: int64"
      ]
     },
     "execution_count": 24,
     "metadata": {},
     "output_type": "execute_result"
    }
   ],
   "source": [
    "df['event'].value_counts()"
   ]
  },
  {
   "cell_type": "code",
   "execution_count": 25,
   "id": "2eec8457",
   "metadata": {},
   "outputs": [
    {
     "name": "stdout",
     "output_type": "stream",
     "text": [
      "total sessions: 600\n",
      "total completed sessions 117\n",
      "Funnel completion rate: 19.50%\n"
     ]
    }
   ],
   "source": [
    "total_sessions = df['session_id'].nunique()\n",
    "print(\"total sessions:\", total_sessions)\n",
    "completed_sessions = df[df['event'] =='confirmation']['session_id'].nunique() #how many unique session IDs had the confirmation event\n",
    "print('total completed sessions', completed_sessions)\n",
    "funnel_completion_rate = completed_sessions / total_sessions\n",
    "print(f\"Funnel completion rate: {funnel_completion_rate:.2%}\") #percentage of people who completed all the events from begining to end"
   ]
  },
  {
   "cell_type": "code",
   "execution_count": 26,
   "id": "c6bb0ebb",
   "metadata": {},
   "outputs": [
    {
     "data": {
      "text/plain": [
       "region\n",
       "AE    11\n",
       "AR    16\n",
       "AU    15\n",
       "BE    17\n",
       "BR    12\n",
       "CA    12\n",
       "CH    12\n",
       "CL    15\n",
       "CN    20\n",
       "DE    17\n",
       "DK    17\n",
       "EG    19\n",
       "ES    20\n",
       "FI    12\n",
       "FR    17\n",
       "GR    14\n",
       "ID    10\n",
       "IE    18\n",
       "IL    13\n",
       "IN     9\n",
       "IT    17\n",
       "JP    14\n",
       "KR    17\n",
       "MX     6\n",
       "MY    11\n",
       "NL    18\n",
       "NO     8\n",
       "NZ    17\n",
       "PH    12\n",
       "PL    15\n",
       "PT    18\n",
       "RU    23\n",
       "SA    21\n",
       "SE    13\n",
       "SG    22\n",
       "TH    10\n",
       "TR    21\n",
       "UK    13\n",
       "US    13\n",
       "ZA    15\n",
       "Name: session_id, dtype: int64"
      ]
     },
     "execution_count": 26,
     "metadata": {},
     "output_type": "execute_result"
    }
   ],
   "source": [
    "df.groupby('region')['session_id'].nunique() #number of sessions per region"
   ]
  },
  {
   "cell_type": "code",
   "execution_count": 27,
   "id": "e35a4eb3",
   "metadata": {},
   "outputs": [],
   "source": [
    "completed = df[df['event'] == 'confirmation']['session_id'].nunique()\n",
    "total_sessions = df['session_id'].nunique()\n",
    "completion_rate = completed / total_sessions"
   ]
  },
  {
   "cell_type": "code",
   "execution_count": 28,
   "id": "2693b93e",
   "metadata": {},
   "outputs": [
    {
     "name": "stdout",
     "output_type": "stream",
     "text": [
      "0.195\n"
     ]
    }
   ],
   "source": [
    "print(completion_rate)"
   ]
  },
  {
   "cell_type": "code",
   "execution_count": null,
   "id": "fab68099",
   "metadata": {},
   "outputs": [],
   "source": []
  }
 ],
 "metadata": {
  "kernelspec": {
   "display_name": "base",
   "language": "python",
   "name": "python3"
  },
  "language_info": {
   "codemirror_mode": {
    "name": "ipython",
    "version": 3
   },
   "file_extension": ".py",
   "mimetype": "text/x-python",
   "name": "python",
   "nbconvert_exporter": "python",
   "pygments_lexer": "ipython3",
   "version": "3.11.5"
  }
 },
 "nbformat": 4,
 "nbformat_minor": 5
}
