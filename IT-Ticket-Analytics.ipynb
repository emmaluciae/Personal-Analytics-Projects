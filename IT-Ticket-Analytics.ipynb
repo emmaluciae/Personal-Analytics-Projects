{
 "cells": [
  {
   "cell_type": "code",
   "execution_count": 50,
   "metadata": {},
   "outputs": [],
   "source": [
    "import random\n",
    "import numpy as np\n",
    "from datetime import datetime, timedelta\n",
    "import pandas as pd"
   ]
  },
  {
   "cell_type": "markdown",
   "metadata": {},
   "source": [
    "Generate the Fake Ticket Dataset"
   ]
  },
  {
   "cell_type": "code",
   "execution_count": 51,
   "metadata": {},
   "outputs": [],
   "source": [
    "#ensure that every time I run the script, it is the same random dataset\n",
    "\n",
    "random.seed(42)\n",
    "np.random.seed(42)"
   ]
  },
  {
   "cell_type": "code",
   "execution_count": 52,
   "metadata": {},
   "outputs": [
    {
     "name": "stdout",
     "output_type": "stream",
     "text": [
      "✅ fake_tickets.csv created\n"
     ]
    }
   ],
   "source": [
    "#Make the ticket generator\n",
    "\n",
    "def generate_fake_tickets(n=500):\n",
    "    #random lookup tables\n",
    "    categories = ['Hardware', 'Software', 'Network', 'Access Request']\n",
    "    priorities = ['Low','Medium','High','Critical']\n",
    "    statuses = ['Open', 'In Progress', 'Resolved', 'Closed']\n",
    "    sla_hours = {'Low': 72, 'Medium': 48, 'High': 24, 'Critical': 8} \n",
    "    '''how long it should take for ticket'''\n",
    "\n",
    "    base_date = datetime(2024,1,1) #earliest creation date (year,month,day)\n",
    "    data = []\n",
    "\n",
    "    #Per ticket loop\n",
    "    for i in range(n): # from n=500\n",
    "        #Ticket creation and resolution\n",
    "        created = base_date + timedelta(days=random.randint(0, 180), hours=random.randint(0, 23)) #random.randint(first day, last day) with 0 being january 1 2024\n",
    "        priority = random.choice(priorities) #pick random priority\n",
    "        sla = timedelta(hours=sla_hours[priority]) #pick sla based on random priority\n",
    "        resolution_time = timedelta(hours=random.randint(1, sla_hours[priority] + 20)) #how long it actually took, which is why the +20 hrs\n",
    "        resolved = created + resolution_time #actual date it was resolved\n",
    "        now = datetime(2024, 5, 15)  # pretend today is May 15, 2024\n",
    "        status = 'Resolved' if resolved < now else 'Open' #if the ticket is resolved mark resolved if not then mark open based on 'now' date\n",
    "        sla_met = resolution_time <= sla #mark true or false if resolved in time or not\n",
    "\n",
    "        #Items in all the columns, store ticket date\n",
    "        data.append({\n",
    "            'ticket_id': f'TKT-{1000 + i}', #the id of the ticket starting at 1000 increasing by 1\n",
    "            'category': random.choice(categories), #pick from random catagories variable\n",
    "            'priority': priority, \n",
    "            'created_at': created,\n",
    "            'resolved_at': resolved if status == 'Resolved' else None, #if status is \"Resolved\" then add time it is resolved\n",
    "            'status': status,\n",
    "            'resolution_hours': resolution_time.total_seconds() / 3600, #get number of hours as a float\n",
    "            'sla_hours': sla.total_seconds() / 3600, #get number of hours as a float\n",
    "            'sla_met': sla_met\n",
    "        })\n",
    "\n",
    "    return pd.DataFrame(data) #put in dataframe, or I won't get anything lol\n",
    "\n",
    "df = generate_fake_tickets() #not needed for code to work, just to work more easily with the rest so I do not have to rewrite that vairable name\n",
    "df.to_csv(\"fake_tickets.csv\", index=False)\n",
    "print(\"✅ fake_tickets.csv created\")"
   ]
  },
  {
   "cell_type": "markdown",
   "metadata": {},
   "source": [
    "KPI Analysis & Reporting"
   ]
  },
  {
   "cell_type": "code",
   "execution_count": 53,
   "metadata": {},
   "outputs": [
    {
     "data": {
      "text/html": [
       "<div>\n",
       "<style scoped>\n",
       "    .dataframe tbody tr th:only-of-type {\n",
       "        vertical-align: middle;\n",
       "    }\n",
       "\n",
       "    .dataframe tbody tr th {\n",
       "        vertical-align: top;\n",
       "    }\n",
       "\n",
       "    .dataframe thead th {\n",
       "        text-align: right;\n",
       "    }\n",
       "</style>\n",
       "<table border=\"1\" class=\"dataframe\">\n",
       "  <thead>\n",
       "    <tr style=\"text-align: right;\">\n",
       "      <th></th>\n",
       "      <th>ticket_id</th>\n",
       "      <th>category</th>\n",
       "      <th>priority</th>\n",
       "      <th>created_at</th>\n",
       "      <th>resolved_at</th>\n",
       "      <th>status</th>\n",
       "      <th>resolution_hours</th>\n",
       "      <th>sla_hours</th>\n",
       "      <th>sla_met</th>\n",
       "    </tr>\n",
       "  </thead>\n",
       "  <tbody>\n",
       "    <tr>\n",
       "      <th>0</th>\n",
       "      <td>TKT-1000</td>\n",
       "      <td>Software</td>\n",
       "      <td>Low</td>\n",
       "      <td>2024-06-12 03:00:00</td>\n",
       "      <td>NaN</td>\n",
       "      <td>Open</td>\n",
       "      <td>36.0</td>\n",
       "      <td>72.0</td>\n",
       "      <td>True</td>\n",
       "    </tr>\n",
       "    <tr>\n",
       "      <th>1</th>\n",
       "      <td>TKT-1001</td>\n",
       "      <td>Hardware</td>\n",
       "      <td>Low</td>\n",
       "      <td>2024-02-27 04:00:00</td>\n",
       "      <td>2024-03-01 19:00:00</td>\n",
       "      <td>Resolved</td>\n",
       "      <td>87.0</td>\n",
       "      <td>72.0</td>\n",
       "      <td>False</td>\n",
       "    </tr>\n",
       "    <tr>\n",
       "      <th>2</th>\n",
       "      <td>TKT-1002</td>\n",
       "      <td>Hardware</td>\n",
       "      <td>Low</td>\n",
       "      <td>2024-05-31 13:00:00</td>\n",
       "      <td>NaN</td>\n",
       "      <td>Open</td>\n",
       "      <td>4.0</td>\n",
       "      <td>72.0</td>\n",
       "      <td>True</td>\n",
       "    </tr>\n",
       "    <tr>\n",
       "      <th>3</th>\n",
       "      <td>TKT-1003</td>\n",
       "      <td>Software</td>\n",
       "      <td>Low</td>\n",
       "      <td>2024-02-25 07:00:00</td>\n",
       "      <td>2024-02-28 07:00:00</td>\n",
       "      <td>Resolved</td>\n",
       "      <td>72.0</td>\n",
       "      <td>72.0</td>\n",
       "      <td>True</td>\n",
       "    </tr>\n",
       "    <tr>\n",
       "      <th>4</th>\n",
       "      <td>TKT-1004</td>\n",
       "      <td>Access Request</td>\n",
       "      <td>Critical</td>\n",
       "      <td>2024-06-15 22:00:00</td>\n",
       "      <td>NaN</td>\n",
       "      <td>Open</td>\n",
       "      <td>8.0</td>\n",
       "      <td>8.0</td>\n",
       "      <td>True</td>\n",
       "    </tr>\n",
       "    <tr>\n",
       "      <th>...</th>\n",
       "      <td>...</td>\n",
       "      <td>...</td>\n",
       "      <td>...</td>\n",
       "      <td>...</td>\n",
       "      <td>...</td>\n",
       "      <td>...</td>\n",
       "      <td>...</td>\n",
       "      <td>...</td>\n",
       "      <td>...</td>\n",
       "    </tr>\n",
       "    <tr>\n",
       "      <th>495</th>\n",
       "      <td>TKT-1495</td>\n",
       "      <td>Software</td>\n",
       "      <td>Low</td>\n",
       "      <td>2024-03-26 09:00:00</td>\n",
       "      <td>2024-03-27 13:00:00</td>\n",
       "      <td>Resolved</td>\n",
       "      <td>28.0</td>\n",
       "      <td>72.0</td>\n",
       "      <td>True</td>\n",
       "    </tr>\n",
       "    <tr>\n",
       "      <th>496</th>\n",
       "      <td>TKT-1496</td>\n",
       "      <td>Software</td>\n",
       "      <td>Critical</td>\n",
       "      <td>2024-01-31 23:00:00</td>\n",
       "      <td>2024-02-01 07:00:00</td>\n",
       "      <td>Resolved</td>\n",
       "      <td>8.0</td>\n",
       "      <td>8.0</td>\n",
       "      <td>True</td>\n",
       "    </tr>\n",
       "    <tr>\n",
       "      <th>497</th>\n",
       "      <td>TKT-1497</td>\n",
       "      <td>Access Request</td>\n",
       "      <td>High</td>\n",
       "      <td>2024-04-11 07:00:00</td>\n",
       "      <td>2024-04-12 02:00:00</td>\n",
       "      <td>Resolved</td>\n",
       "      <td>19.0</td>\n",
       "      <td>24.0</td>\n",
       "      <td>True</td>\n",
       "    </tr>\n",
       "    <tr>\n",
       "      <th>498</th>\n",
       "      <td>TKT-1498</td>\n",
       "      <td>Network</td>\n",
       "      <td>High</td>\n",
       "      <td>2024-04-29 17:00:00</td>\n",
       "      <td>2024-04-30 13:00:00</td>\n",
       "      <td>Resolved</td>\n",
       "      <td>20.0</td>\n",
       "      <td>24.0</td>\n",
       "      <td>True</td>\n",
       "    </tr>\n",
       "    <tr>\n",
       "      <th>499</th>\n",
       "      <td>TKT-1499</td>\n",
       "      <td>Hardware</td>\n",
       "      <td>Critical</td>\n",
       "      <td>2024-04-02 16:00:00</td>\n",
       "      <td>2024-04-03 07:00:00</td>\n",
       "      <td>Resolved</td>\n",
       "      <td>15.0</td>\n",
       "      <td>8.0</td>\n",
       "      <td>False</td>\n",
       "    </tr>\n",
       "  </tbody>\n",
       "</table>\n",
       "<p>500 rows × 9 columns</p>\n",
       "</div>"
      ],
      "text/plain": [
       "    ticket_id        category  priority           created_at  \\\n",
       "0    TKT-1000        Software       Low  2024-06-12 03:00:00   \n",
       "1    TKT-1001        Hardware       Low  2024-02-27 04:00:00   \n",
       "2    TKT-1002        Hardware       Low  2024-05-31 13:00:00   \n",
       "3    TKT-1003        Software       Low  2024-02-25 07:00:00   \n",
       "4    TKT-1004  Access Request  Critical  2024-06-15 22:00:00   \n",
       "..        ...             ...       ...                  ...   \n",
       "495  TKT-1495        Software       Low  2024-03-26 09:00:00   \n",
       "496  TKT-1496        Software  Critical  2024-01-31 23:00:00   \n",
       "497  TKT-1497  Access Request      High  2024-04-11 07:00:00   \n",
       "498  TKT-1498         Network      High  2024-04-29 17:00:00   \n",
       "499  TKT-1499        Hardware  Critical  2024-04-02 16:00:00   \n",
       "\n",
       "             resolved_at    status  resolution_hours  sla_hours  sla_met  \n",
       "0                    NaN      Open              36.0       72.0     True  \n",
       "1    2024-03-01 19:00:00  Resolved              87.0       72.0    False  \n",
       "2                    NaN      Open               4.0       72.0     True  \n",
       "3    2024-02-28 07:00:00  Resolved              72.0       72.0     True  \n",
       "4                    NaN      Open               8.0        8.0     True  \n",
       "..                   ...       ...               ...        ...      ...  \n",
       "495  2024-03-27 13:00:00  Resolved              28.0       72.0     True  \n",
       "496  2024-02-01 07:00:00  Resolved               8.0        8.0     True  \n",
       "497  2024-04-12 02:00:00  Resolved              19.0       24.0     True  \n",
       "498  2024-04-30 13:00:00  Resolved              20.0       24.0     True  \n",
       "499  2024-04-03 07:00:00  Resolved              15.0        8.0    False  \n",
       "\n",
       "[500 rows x 9 columns]"
      ]
     },
     "execution_count": 53,
     "metadata": {},
     "output_type": "execute_result"
    }
   ],
   "source": [
    "#open file\n",
    "\n",
    "df = pd.read_csv('fake_tickets.csv')\n",
    "df"
   ]
  },
  {
   "cell_type": "code",
   "execution_count": 54,
   "metadata": {},
   "outputs": [
    {
     "name": "stdout",
     "output_type": "stream",
     "text": [
      "SLA Compliance Rate: 60.83%\n"
     ]
    }
   ],
   "source": [
    "#SLA Compliance Rate, what % resolved tickets meet SLA?\n",
    "\n",
    "sla_compliance = df[df['status'] == 'Resolved']['sla_met'].mean()\n",
    "print(f\"SLA Compliance Rate: {sla_compliance:.2%}\")"
   ]
  },
  {
   "cell_type": "code",
   "execution_count": 55,
   "metadata": {},
   "outputs": [
    {
     "name": "stdout",
     "output_type": "stream",
     "text": [
      "Average Resolution Time: 29.42\n"
     ]
    }
   ],
   "source": [
    "#Average Resolution Time, how long did resolved tickets take on average?\n",
    "\n",
    "avg_resolution = df[df['status'] == 'Resolved']['resolution_hours'].mean()\n",
    "print(f'Average Resolution Time: {avg_resolution:.2f}')"
   ]
  },
  {
   "cell_type": "code",
   "execution_count": 56,
   "metadata": {},
   "outputs": [
    {
     "name": "stdout",
     "output_type": "stream",
     "text": [
      "Tickets by Category: category\n",
      "Access Request    135\n",
      "Software          132\n",
      "Network           130\n",
      "Hardware          103\n",
      "Name: count, dtype: int64\n",
      "\n",
      "Tickets by Priority: priority\n",
      "Low         131\n",
      "High        128\n",
      "Medium      123\n",
      "Critical    118\n",
      "Name: count, dtype: int64\n"
     ]
    }
   ],
   "source": [
    "#Ticket Volume by Category or Priority, how many tickets fall into each catagory?\n",
    "\n",
    "category_count = df['category'].value_counts()\n",
    "priority_count = df['priority'].value_counts()\n",
    "\n",
    "print(f'Tickets by Category:',category_count)\n",
    "print(f'\\nTickets by Priority:',priority_count)"
   ]
  },
  {
   "cell_type": "code",
   "execution_count": 57,
   "metadata": {},
   "outputs": [],
   "source": [
    "#Summary\n",
    "\n",
    "summary = {\n",
    "    'SLA Compliance Rate': [sla_compliance],\n",
    "    'Average Resolution Hours': [avg_resolution]\n",
    "}\n",
    "pd.DataFrame(summary).to_csv(\"summary_stats.csv\", index=False)"
   ]
  },
  {
   "cell_type": "code",
   "execution_count": null,
   "metadata": {},
   "outputs": [],
   "source": []
  }
 ],
 "metadata": {
  "kernelspec": {
   "display_name": "base",
   "language": "python",
   "name": "python3"
  },
  "language_info": {
   "codemirror_mode": {
    "name": "ipython",
    "version": 3
   },
   "file_extension": ".py",
   "mimetype": "text/x-python",
   "name": "python",
   "nbconvert_exporter": "python",
   "pygments_lexer": "ipython3",
   "version": "3.11.5"
  }
 },
 "nbformat": 4,
 "nbformat_minor": 2
}
